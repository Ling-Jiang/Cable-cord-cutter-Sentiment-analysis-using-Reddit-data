{
 "cells": [
  {
   "cell_type": "markdown",
   "metadata": {},
   "source": [
    "## Table of contents\n",
    "* [Authentication](# authentication)\n",
    "* [Extraction](#extraction)"
   ]
  },
  {
   "cell_type": "markdown",
   "metadata": {},
   "source": [
    "### 1.Authentication  "
   ]
  },
  {
   "cell_type": "markdown",
   "metadata": {},
   "source": [
    "PRAW is shortform for **P**ython **R**eddit **A**PI **W**rapper  \n",
    "\n",
    "**Prerequisites**   \n",
    "*Python Knowledge*:  \n",
    " \tYou need to know at least a little Python to use PRAW; it’s a Python wrapper after all. PRAW supports Python 2.7, and Python 3.3 to 3.6.\n",
    "    \n",
    "*Reddit Knowledge: *   \n",
    " \tA basic understanding of how reddit.com works is a must. In the event you are not already familiar with Reddit start with their FAQ.  \n",
    "    \n",
    "*Reddit Account:*  \n",
    "A Reddit account is required to access Reddit’s API. Create one at reddit.com. \n",
    "\n",
    "*Client ID & Client Secret:  *  \n",
    " \tThese two values are needed to access Reddit’s API as a script application (see Authenticating via OAuth for other application types). If you don’t already have a client ID and client secret, follow Reddit’s First Steps Guide to create them.  \n",
    "    \n",
    "*User Agent:*  \n",
    "A user agent is a unique identifier that helps Reddit determine the source of network requests. To use Reddit’s API, you need a unique and descriptive user agent.\n",
    "    \n",
    "[Source](https://praw.readthedocs.io/en/latest/getting_started/quick_start.html)"
   ]
  },
  {
   "cell_type": "markdown",
   "metadata": {},
   "source": [
    "\n",
    "After creating the credentials (client_id, client_secret, username, password), the next step is to login into reddit API using praw package"
   ]
  },
  {
   "cell_type": "code",
   "execution_count": 1,
   "metadata": {},
   "outputs": [],
   "source": [
    "import praw\n",
    "reddit = praw.Reddit(user_agent='Comment Extraction (by /u/USERNAME)',\n",
    "                     client_id='********', client_secret=\"***********\",\n",
    "                     username='********', password='**********')"
   ]
  },
  {
   "cell_type": "markdown",
   "metadata": {},
   "source": [
    "Here, we are creating an authorized reddit instance and not only the read-only instance as authorized instance has less restrictions in terms of data retrieval. The credentials are masked due to privacy and security reasons but you can find the guide to create them in a short time [here]()."
   ]
  },
  {
   "cell_type": "markdown",
   "metadata": {},
   "source": [
    "### Data extraction\n",
    "Here in this section, we send the requests to the reddit api and get the headers and body of the comments in 2 separate lists"
   ]
  },
  {
   "cell_type": "markdown",
   "metadata": {},
   "source": [
    "But we need all the comments including the nested ones. Below code contains another while loop that goes into the comments section and gets the replies as well for those comments.  \n",
    "All in all, it first goes into the subreddit and then into the comment and gets all the replies and iterates the same process, till it reaches the end of the line in the sub reddit"
   ]
  },
  {
   "cell_type": "code",
   "execution_count": 8,
   "metadata": {},
   "outputs": [],
   "source": [
    "comm_list = []\n",
    "header_list = []\n",
    "i = 0\n",
    "for submission in reddit.subreddit('cordcutters').hot(limit=2):\n",
    "    submission.comments.replace_more(limit=None)\n",
    "    comment_queue = submission.comments[:]  # Seed with top-level\n",
    "    while comment_queue:\n",
    "        header_list.append(submission.title)\n",
    "        comment = comment_queue.pop(0)\n",
    "        comm_list.append(comment.body)\n",
    "        t = []\n",
    "        t.extend(comment.replies)\n",
    "        while t:\n",
    "            header_list.append(submission.title)\n",
    "            reply = t.pop(0)\n",
    "            comm_list.append(reply.body)"
   ]
  },
  {
   "cell_type": "code",
   "execution_count": 2,
   "metadata": {},
   "outputs": [],
   "source": [
    "comm_list = []\n",
    "header_list = []\n",
    "i = 0\n",
    "for submission in reddit.subreddit('cordcutters').hot(limit=2):\n",
    "    submission.comments.replace_more(limit=None)\n",
    "    comment_queue = submission.comments[:]  # Seed with top-level"
   ]
  },
  {
   "cell_type": "code",
   "execution_count": 3,
   "metadata": {},
   "outputs": [
    {
     "data": {
      "text/plain": [
       "[Comment(id='ed5ssfg'),\n",
       " Comment(id='ed64a72'),\n",
       " Comment(id='edth3nc'),\n",
       " Comment(id='ed680cg'),\n",
       " Comment(id='ed699q2'),\n",
       " Comment(id='ed80ce8'),\n",
       " Comment(id='edau9st'),\n",
       " Comment(id='edcx477'),\n",
       " Comment(id='ee0fp3g'),\n",
       " Comment(id='ed5qrvh')]"
      ]
     },
     "execution_count": 3,
     "metadata": {},
     "output_type": "execute_result"
    }
   ],
   "source": [
    "comment_queue"
   ]
  },
  {
   "cell_type": "code",
   "execution_count": 4,
   "metadata": {},
   "outputs": [],
   "source": [
    "comm_list = []\n",
    "header_list = []\n",
    "i = 0\n",
    "for submission in reddit.subreddit('cordcutters').hot(limit=2):\n",
    "    submission.comments.replace_more(limit=None)\n",
    "    comment_queue = submission.comments[:]  # Seed with top-level\n",
    "    while comment_queue:\n",
    "        header_list.append(submission.title)\n",
    "        comment = comment_queue.pop(0)\n",
    "        comm_list.append(comment.body)\n",
    "        t = []\n",
    "        t.extend(comment.replies)"
   ]
  },
  {
   "cell_type": "code",
   "execution_count": 5,
   "metadata": {},
   "outputs": [],
   "source": [
    "while comment_queue:\n",
    "    header_list.append(submission.title)\n",
    "    comment = comment_queue.pop(0)\n",
    "    comm_list.append(comment.body)\n",
    "    t = []\n",
    "    t.extend(comment.replies)\n",
    "    while t:\n",
    "        header_list.append(submission.title)\n",
    "        reply = t.pop(0)\n",
    "        comm_list.append(reply.body)"
   ]
  },
  {
   "cell_type": "code",
   "execution_count": 7,
   "metadata": {},
   "outputs": [
    {
     "data": {
      "text/plain": [
       "['Any plans to expand beyond your Chicago headquarters?',\n",
       " 'Everyone, thank you very much for your time and interest - and thanks, sincerely, for watching.  Any ideas / questions / criticisms, please email us at [info@watchstadium.com](mailto:info@watchstadium.com)  \\\\- have a great day, everyone! \\n\\nAll the best,\\n\\nJason',\n",
       " 'As a college football fan, I really enjoy your addition of Brett McMurphy to Stadium.  Is there anything in the works for an insider type show, Podcast, or other with Brett?',\n",
       " 'I tried to bring your streaming channel into my hotel groups but was told there would be a large carrier fee to do so. Why is that when your content is free to access? ',\n",
       " \"Previously received question from u/ASM360\\n\\nGood afternoon, I was wondering why Stadium is delivered in HD for Pluto Tv, via the Stadium app, Xumo, and even the Roku Channel app; however via OTA it's 480 and un-formatted (so small that it does not even fit the screen)?\",\n",
       " 'Any plans to join up with YouTubeTV? I really like how it has most of the sports channels save you guys and pac 12',\n",
       " \"With competitors like AT&T via B/R Live, Disney via ESPN+, Comcast via NBC Sports Gold investing more and more into exclusive OTT Live Sports that do not air on their Live TV networks...not to mention if Amazon or Apple ever decide to get into the exclusive live sports production and distribution business...what gives you the confidence you'll be able to secure the necessary live sports rights to have a viable service to the consumer?\",\n",
       " 'Any chance you will expand to the Minneapolis market in the future?',\n",
       " 'Previously received question from u/dracoolya\\n\\nWill they be adding more professional wrestling shows besides Ring of Honor in the near future?',\n",
       " 'Previously received question from u/ZippyTheChicken\\n\\nI use to get stadium out of baltimore on channel 45 BFF and my tv picks it up and shows the channel number and name but it is a black screen with no broadcast. Did you shutdown your baltimore affiliate?',\n",
       " 'I saw you guys have been posting about an upcoming Derrick Rose documentary. I was just wondering what the status of that is, it looks awesome!',\n",
       " \"What's the update on ATSC 3.0? I've heard a lot but dates seem to be fuzzy at this point, what's your take? \",\n",
       " 'Who do you consider your competition in the OTA/Broadcast space? \\n',\n",
       " 'Thank you for doing an AMA here. We are delighted to have you here. What is the most challenging project you have done for Stadium? And what project was the most fun? Thanks!',\n",
       " 'Jason, You all have seemingly been successful in mid-major college conferences like the WCC and Patriot. As a small college administrator, with some of the broadcasts NCAA D2, NAIA, schools are able to produce have you had any thoughts about venturing into those areas?',\n",
       " 'Not really a big watcher of your network but sometimes watch A10 basketball here. My question is since i don’t know much about Stadium, what live sports do you have rights to in the spring and summer during college sports off-season? ',\n",
       " 'Any plans to tap into the sports betting space?',\n",
       " 'In 2021, what do you think the main differences will be from now and then? How will the channel evolve? \\n\\nBig fan of the product! ',\n",
       " 'Never heard of your network!\\n\\n&nbsp;\\n\\nWhat is your coverage of hockey like?\\n\\n&nbsp;\\n\\nCan I hope that you’ll cover it fairly, unlike ESPN who completely abandoned it in favor of Rock Paper Scissors when the NHL moved to fox sports?',\n",
       " 'Welcome to r/cordcutters!\\n\\nI am a Mountain West fan and I was really happy when you signed a deal with PlayStation Vue.  I am now going to keep the Sports Pack year around now to maintain access to your 1,2,3 channels.  \\n\\nFew questions from me:\\n\\n* My wife loves softball, will there be Mountain West softball on Stadium this spring?\\n* Any plans to improve your OTA quality in the future? Stadium is only 480i in my market so I always stream it instead but I know others here like to use their antennas to save bandwidth.\\n* Any plans to expand coverage to more college conferences? or many being back the Mountain West Network as a 24/7 feed?\\n* Finally, what is your quest? and what is your favorite color?',\n",
       " 'Good Afternoon Jason. I just wanted to congratulate you and the team that you have assembled to create such an amazing sports platform. It is an everyday go to that gets so many more “behind the scenes “ stories than almost any other sports platform. ',\n",
       " 'Do you see OTT advertising innovations in the coming future, or will it continue to consist mainly of TV-like pre and mid-roll ads?',\n",
       " 'Don’t forget...nfl mobile and yahoo sports apps stream all nationally televised games to any mobile device with a cellular connection regardless of whether you watch on cellular or WiFi. It’s been great all season for on-the-go. ',\n",
       " \"You should consider adding Locast to this. That's how I plan to watch most of these games.\",\n",
       " 'Does anyone have any speculation or opinion on streaming reliability for the Super Bowl?  This is my first year with cord cutting and I am not sure what to expect.  I have Hulu Live TV but would be willing to purchase another service for a month if that meant a better quality stream.',\n",
       " 'missing youtube tv on roku\\n\\nedit: also hulu with live tv',\n",
       " 'First, thank you!\\n\\nSecond, GO BEARS!\\n\\nThird, are any games going to be on Amazon Prime?',\n",
       " 'Hulu with Live TV DOES work through the Web.',\n",
       " 'Dumb question: how do I get CBS on PS Vue? I don’t see that available on the “access” sub. I was going to head to get a digital antenna today just to watch CBS but if it is available then I’m not going to do that. ',\n",
       " \"Sling doesn't offer NBC where I am, and the antenna isn't picking it up either. I'm SOL with the NBC games \",\n",
       " 'Hi folks -- I run a small research group in the computer science department at Stanford University, and we are doing a research study, with public participation, to improve video-streaming algorithms. We are streaming the local San Francisco Bay Area affiliates or stations for CBS, NBC, ABC, FOX, PBS, and Univision. If you watch, you will end up contributing technical data that help our system learn better.\\n\\n&#x200B;\\n\\nYou can watch the TV channels here: [https://puffer.stanford.edu](https://puffer.stanford.edu)\\n\\nFAQ: [https://puffer.stanford.edu/faq](https://puffer.stanford.edu/faq)',\n",
       " '[deleted]']"
      ]
     },
     "execution_count": 7,
     "metadata": {},
     "output_type": "execute_result"
    }
   ],
   "source": [
    "comm_list"
   ]
  },
  {
   "cell_type": "markdown",
   "metadata": {},
   "source": [
    "Here, a dataframe has been created by concatenating the headers and comments from the sub reddit"
   ]
  },
  {
   "cell_type": "code",
   "execution_count": 9,
   "metadata": {},
   "outputs": [
    {
     "data": {
      "text/html": [
       "<div>\n",
       "<style scoped>\n",
       "    .dataframe tbody tr th:only-of-type {\n",
       "        vertical-align: middle;\n",
       "    }\n",
       "\n",
       "    .dataframe tbody tr th {\n",
       "        vertical-align: top;\n",
       "    }\n",
       "\n",
       "    .dataframe thead th {\n",
       "        text-align: right;\n",
       "    }\n",
       "</style>\n",
       "<table border=\"1\" class=\"dataframe\">\n",
       "  <thead>\n",
       "    <tr style=\"text-align: right;\">\n",
       "      <th></th>\n",
       "      <th>0</th>\n",
       "      <th>comm_list</th>\n",
       "    </tr>\n",
       "  </thead>\n",
       "  <tbody>\n",
       "    <tr>\n",
       "      <th>0</th>\n",
       "      <td>I'm Jason Coyle, CEO of Stadium, the first 24/...</td>\n",
       "      <td>Any plans to expand beyond your Chicago headqu...</td>\n",
       "    </tr>\n",
       "    <tr>\n",
       "      <th>1</th>\n",
       "      <td>I'm Jason Coyle, CEO of Stadium, the first 24/...</td>\n",
       "      <td>We have a sales office in NYC and Det., and we...</td>\n",
       "    </tr>\n",
       "    <tr>\n",
       "      <th>2</th>\n",
       "      <td>I'm Jason Coyle, CEO of Stadium, the first 24/...</td>\n",
       "      <td>Everyone, thank you very much for your time an...</td>\n",
       "    </tr>\n",
       "    <tr>\n",
       "      <th>3</th>\n",
       "      <td>I'm Jason Coyle, CEO of Stadium, the first 24/...</td>\n",
       "      <td>Thank you for your time!</td>\n",
       "    </tr>\n",
       "    <tr>\n",
       "      <th>4</th>\n",
       "      <td>I'm Jason Coyle, CEO of Stadium, the first 24/...</td>\n",
       "      <td>As a college football fan, I really enjoy your...</td>\n",
       "    </tr>\n",
       "  </tbody>\n",
       "</table>\n",
       "</div>"
      ],
      "text/plain": [
       "                                                   0  \\\n",
       "0  I'm Jason Coyle, CEO of Stadium, the first 24/...   \n",
       "1  I'm Jason Coyle, CEO of Stadium, the first 24/...   \n",
       "2  I'm Jason Coyle, CEO of Stadium, the first 24/...   \n",
       "3  I'm Jason Coyle, CEO of Stadium, the first 24/...   \n",
       "4  I'm Jason Coyle, CEO of Stadium, the first 24/...   \n",
       "\n",
       "                                           comm_list  \n",
       "0  Any plans to expand beyond your Chicago headqu...  \n",
       "1  We have a sales office in NYC and Det., and we...  \n",
       "2  Everyone, thank you very much for your time an...  \n",
       "3                           Thank you for your time!  \n",
       "4  As a college football fan, I really enjoy your...  "
      ]
     },
     "execution_count": 9,
     "metadata": {},
     "output_type": "execute_result"
    }
   ],
   "source": [
    "import pandas as pd\n",
    "df = pd.DataFrame(header_list)\n",
    "df['comm_list'] = comm_list\n",
    "df.head()"
   ]
  },
  {
   "cell_type": "markdown",
   "metadata": {},
   "source": [
    "From the raw data, we can see that there are \\n tags at the end of every sentence. After some cleaning, we finally export the data to a csv file"
   ]
  },
  {
   "cell_type": "code",
   "execution_count": 10,
   "metadata": {},
   "outputs": [],
   "source": [
    "df.columns = ['header','comments']\n",
    "df['comments'] = df['comments'].apply(lambda x : x.replace('\\n',''))\n",
    "# df.to_csv('cordcutter_comments1.csv',index = False)"
   ]
  },
  {
   "cell_type": "code",
   "execution_count": null,
   "metadata": {},
   "outputs": [],
   "source": [
    "df = pd.DataFrame(header_list)\n",
    "df['comm_list'] = comm_list\n",
    "df.columns = ['header','comments']\n",
    "df['comments'] = df['comments'].apply(lambda x : x.replace('\\n',''))\n",
    "df.to_csv('cordcutter_comments.csv',index = False)"
   ]
  },
  {
   "cell_type": "code",
   "execution_count": 11,
   "metadata": {},
   "outputs": [
    {
     "data": {
      "text/html": [
       "<div>\n",
       "<style scoped>\n",
       "    .dataframe tbody tr th:only-of-type {\n",
       "        vertical-align: middle;\n",
       "    }\n",
       "\n",
       "    .dataframe tbody tr th {\n",
       "        vertical-align: top;\n",
       "    }\n",
       "\n",
       "    .dataframe thead th {\n",
       "        text-align: right;\n",
       "    }\n",
       "</style>\n",
       "<table border=\"1\" class=\"dataframe\">\n",
       "  <thead>\n",
       "    <tr style=\"text-align: right;\">\n",
       "      <th></th>\n",
       "      <th>header</th>\n",
       "      <th>comments</th>\n",
       "    </tr>\n",
       "  </thead>\n",
       "  <tbody>\n",
       "    <tr>\n",
       "      <th>0</th>\n",
       "      <td>I'm Jason Coyle, CEO of Stadium, the first 24/...</td>\n",
       "      <td>Any plans to expand beyond your Chicago headqu...</td>\n",
       "    </tr>\n",
       "    <tr>\n",
       "      <th>1</th>\n",
       "      <td>I'm Jason Coyle, CEO of Stadium, the first 24/...</td>\n",
       "      <td>We have a sales office in NYC and Det., and we...</td>\n",
       "    </tr>\n",
       "    <tr>\n",
       "      <th>2</th>\n",
       "      <td>I'm Jason Coyle, CEO of Stadium, the first 24/...</td>\n",
       "      <td>Everyone, thank you very much for your time an...</td>\n",
       "    </tr>\n",
       "    <tr>\n",
       "      <th>3</th>\n",
       "      <td>I'm Jason Coyle, CEO of Stadium, the first 24/...</td>\n",
       "      <td>Thank you for your time!</td>\n",
       "    </tr>\n",
       "    <tr>\n",
       "      <th>4</th>\n",
       "      <td>I'm Jason Coyle, CEO of Stadium, the first 24/...</td>\n",
       "      <td>As a college football fan, I really enjoy your...</td>\n",
       "    </tr>\n",
       "  </tbody>\n",
       "</table>\n",
       "</div>"
      ],
      "text/plain": [
       "                                              header  \\\n",
       "0  I'm Jason Coyle, CEO of Stadium, the first 24/...   \n",
       "1  I'm Jason Coyle, CEO of Stadium, the first 24/...   \n",
       "2  I'm Jason Coyle, CEO of Stadium, the first 24/...   \n",
       "3  I'm Jason Coyle, CEO of Stadium, the first 24/...   \n",
       "4  I'm Jason Coyle, CEO of Stadium, the first 24/...   \n",
       "\n",
       "                                            comments  \n",
       "0  Any plans to expand beyond your Chicago headqu...  \n",
       "1  We have a sales office in NYC and Det., and we...  \n",
       "2  Everyone, thank you very much for your time an...  \n",
       "3                           Thank you for your time!  \n",
       "4  As a college football fan, I really enjoy your...  "
      ]
     },
     "execution_count": 11,
     "metadata": {},
     "output_type": "execute_result"
    }
   ],
   "source": [
    "df.head()"
   ]
  },
  {
   "cell_type": "code",
   "execution_count": 33,
   "metadata": {},
   "outputs": [
    {
     "data": {
      "text/plain": [
       "\"If you get downto -96 power you'll still get the same sensitivity.  So down to KXLY (probably).  You'll want to raise the antenna as high as possible, so it can see over those edges.\""
      ]
     },
     "execution_count": 33,
     "metadata": {},
     "output_type": "execute_result"
    }
   ],
   "source": [
    "df.loc[673,'comments']"
   ]
  }
 ],
 "metadata": {
  "kernelspec": {
   "display_name": "Python 3",
   "language": "python",
   "name": "python3"
  },
  "language_info": {
   "codemirror_mode": {
    "name": "ipython",
    "version": 3
   },
   "file_extension": ".py",
   "mimetype": "text/x-python",
   "name": "python",
   "nbconvert_exporter": "python",
   "pygments_lexer": "ipython3",
   "version": "3.6.6"
  }
 },
 "nbformat": 4,
 "nbformat_minor": 2
}
