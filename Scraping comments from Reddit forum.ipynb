{
 "cells": [
  {
   "cell_type": "markdown",
   "metadata": {},
   "source": [
    "## Table of contents\n",
    "* [Authentication](# authentication)\n",
    "* [Extraction](#extraction)"
   ]
  },
  {
   "cell_type": "markdown",
   "metadata": {},
   "source": [
    "<img src=\"reddit.png\" style=\"width: 800px\"/>"
   ]
  },
  {
   "cell_type": "markdown",
   "metadata": {},
   "source": [
    "### 1.Authentication  "
   ]
  },
  {
   "cell_type": "markdown",
   "metadata": {},
   "source": [
    "PRAW is shortform for **P**ython **R**eddit **A**PI **W**rapper  \n",
    "\n",
    "**Prerequisites**   \n",
    "*Python Knowledge*:  \n",
    " \tYou need to know at least a little Python to use PRAW; it’s a Python wrapper after all. PRAW supports Python 2.7, and Python 3.3 to 3.6.\n",
    "    \n",
    "*Reddit Knowledge: *   \n",
    " \tA basic understanding of how reddit.com works is a must. In the event you are not already familiar with Reddit start with their FAQ.  \n",
    "    \n",
    "*Reddit Account:*  \n",
    "A Reddit account is required to access Reddit’s API. Create one at reddit.com. \n",
    "\n",
    "*Client ID & Client Secret:  *  \n",
    " \tThese two values are needed to access Reddit’s API as a script application (see Authenticating via OAuth for other application types). If you don’t already have a client ID and client secret, follow Reddit’s First Steps Guide to create them.  \n",
    "    \n",
    "*User Agent:*  \n",
    "A user agent is a unique identifier that helps Reddit determine the source of network requests. To use Reddit’s API, you need a unique and descriptive user agent.\n",
    "    \n",
    "[Source](https://praw.readthedocs.io/en/latest/getting_started/quick_start.html)"
   ]
  },
  {
   "cell_type": "markdown",
   "metadata": {},
   "source": [
    "\n",
    "After creating the credentials (client_id, client_secret, username, password), the next step is to login into reddit API using praw package"
   ]
  },
  {
   "cell_type": "code",
   "execution_count": 2,
   "metadata": {},
   "outputs": [],
   "source": [
    "import praw\n",
    "reddit = praw.Reddit(user_agent='Comment Extraction (by /u/USERNAME)',\n",
    "                     client_id='Mjk1ISLhBg6bXQ', client_secret=\"K0LPk-78K3Mmhnc2qUuVc_4Dv4Y\",\n",
    "                     username='akhil44', password='$4Akhilesh')"
   ]
  },
  {
   "cell_type": "markdown",
   "metadata": {},
   "source": [
    "Here, we are creating an authorized reddit instance and not only the read-only instance as authorized instance has less restrictions in terms of data retrieval. The credentials are masked due to privacy and security reasons but you can find the guide to create them in a short time [here]()."
   ]
  },
  {
   "cell_type": "markdown",
   "metadata": {},
   "source": [
    "### Data extraction\n",
    "Here in this section, we send the requests to the reddit api and get the headers and body of the comments in 2 separate lists"
   ]
  },
  {
   "cell_type": "markdown",
   "metadata": {},
   "source": [
    "But we need all the comments including the nested ones. Below code contains another while loop that goes into the comments section and gets the replies as well for those comments.  \n",
    "All in all, it first goes into the subreddit and then into the comment and gets all the replies and iterates the same process, till it reaches the end of the line in the sub reddit"
   ]
  },
  {
   "cell_type": "code",
   "execution_count": 3,
   "metadata": {},
   "outputs": [
    {
     "name": "stdout",
     "output_type": "stream",
     "text": [
      "0\n",
      "1\n"
     ]
    }
   ],
   "source": [
    "comm_list = []\n",
    "header_list = []\n",
    "i = 0\n",
    "for submission in reddit.subreddit('cordcutters').hot(limit=2):\n",
    "    submission.comments.replace_more(limit=None)\n",
    "    print(i)\n",
    "    i = i + 1\n",
    "    comment_queue = submission.comments[:]  # Seed with top-level\n",
    "    while comment_queue:\n",
    "        header_list.append(submission.title)\n",
    "        comment = comment_queue.pop(0)\n",
    "        comm_list.append(comment.body)\n",
    "        t = []\n",
    "        t.extend(comment.replies)\n",
    "        while t:\n",
    "            header_list.append(submission.title)\n",
    "            reply = t.pop(0)\n",
    "            comm_list.append(reply.body)"
   ]
  },
  {
   "cell_type": "markdown",
   "metadata": {},
   "source": [
    "Here, a dataframe has been created by concatenating the headers and comments from the sub reddit"
   ]
  },
  {
   "cell_type": "code",
   "execution_count": 5,
   "metadata": {},
   "outputs": [
    {
     "data": {
      "text/html": [
       "<div>\n",
       "<style scoped>\n",
       "    .dataframe tbody tr th:only-of-type {\n",
       "        vertical-align: middle;\n",
       "    }\n",
       "\n",
       "    .dataframe tbody tr th {\n",
       "        vertical-align: top;\n",
       "    }\n",
       "\n",
       "    .dataframe thead th {\n",
       "        text-align: right;\n",
       "    }\n",
       "</style>\n",
       "<table border=\"1\" class=\"dataframe\">\n",
       "  <thead>\n",
       "    <tr style=\"text-align: right;\">\n",
       "      <th></th>\n",
       "      <th>0</th>\n",
       "      <th>comm_list</th>\n",
       "    </tr>\n",
       "  </thead>\n",
       "  <tbody>\n",
       "    <tr>\n",
       "      <th>0</th>\n",
       "      <td>I'm Jason Coyle, CEO of Stadium, the first 24/...</td>\n",
       "      <td>Any plans to expand beyond your Chicago headqu...</td>\n",
       "    </tr>\n",
       "    <tr>\n",
       "      <th>1</th>\n",
       "      <td>I'm Jason Coyle, CEO of Stadium, the first 24/...</td>\n",
       "      <td>We have a sales office in NYC and Det., and we...</td>\n",
       "    </tr>\n",
       "    <tr>\n",
       "      <th>2</th>\n",
       "      <td>I'm Jason Coyle, CEO of Stadium, the first 24/...</td>\n",
       "      <td>As a college football fan, I really enjoy your...</td>\n",
       "    </tr>\n",
       "    <tr>\n",
       "      <th>3</th>\n",
       "      <td>I'm Jason Coyle, CEO of Stadium, the first 24/...</td>\n",
       "      <td>Thank you - appreciate that.  We have a show o...</td>\n",
       "    </tr>\n",
       "    <tr>\n",
       "      <th>4</th>\n",
       "      <td>I'm Jason Coyle, CEO of Stadium, the first 24/...</td>\n",
       "      <td>In 2021, what do you think the main difference...</td>\n",
       "    </tr>\n",
       "  </tbody>\n",
       "</table>\n",
       "</div>"
      ],
      "text/plain": [
       "                                                   0  \\\n",
       "0  I'm Jason Coyle, CEO of Stadium, the first 24/...   \n",
       "1  I'm Jason Coyle, CEO of Stadium, the first 24/...   \n",
       "2  I'm Jason Coyle, CEO of Stadium, the first 24/...   \n",
       "3  I'm Jason Coyle, CEO of Stadium, the first 24/...   \n",
       "4  I'm Jason Coyle, CEO of Stadium, the first 24/...   \n",
       "\n",
       "                                           comm_list  \n",
       "0  Any plans to expand beyond your Chicago headqu...  \n",
       "1  We have a sales office in NYC and Det., and we...  \n",
       "2  As a college football fan, I really enjoy your...  \n",
       "3  Thank you - appreciate that.  We have a show o...  \n",
       "4  In 2021, what do you think the main difference...  "
      ]
     },
     "execution_count": 5,
     "metadata": {},
     "output_type": "execute_result"
    }
   ],
   "source": [
    "import pandas as pd\n",
    "df = pd.DataFrame(header_list)\n",
    "df['comm_list'] = comm_list\n",
    "df.head()"
   ]
  },
  {
   "cell_type": "markdown",
   "metadata": {},
   "source": [
    "From the raw data, we can see that there are \\n tags at the end of every sentence. After some cleaning, we finally export the data to a csv file"
   ]
  },
  {
   "cell_type": "code",
   "execution_count": 31,
   "metadata": {},
   "outputs": [],
   "source": [
    "df.columns = ['header','comments']\n",
    "df['comments'] = df['comments'].apply(lambda x : x.replace('\\n',''))\n",
    "df.to_csv('cordcutter_comments1.csv',index = False)"
   ]
  },
  {
   "cell_type": "code",
   "execution_count": 33,
   "metadata": {},
   "outputs": [
    {
     "data": {
      "text/plain": [
       "\"If you get downto -96 power you'll still get the same sensitivity.  So down to KXLY (probably).  You'll want to raise the antenna as high as possible, so it can see over those edges.\""
      ]
     },
     "execution_count": 33,
     "metadata": {},
     "output_type": "execute_result"
    }
   ],
   "source": [
    "df.loc[673,'comments']"
   ]
  }
 ],
 "metadata": {
  "kernelspec": {
   "display_name": "Python 3",
   "language": "python",
   "name": "python3"
  },
  "language_info": {
   "codemirror_mode": {
    "name": "ipython",
    "version": 3
   },
   "file_extension": ".py",
   "mimetype": "text/x-python",
   "name": "python",
   "nbconvert_exporter": "python",
   "pygments_lexer": "ipython3",
   "version": "3.6.6"
  }
 },
 "nbformat": 4,
 "nbformat_minor": 2
}
